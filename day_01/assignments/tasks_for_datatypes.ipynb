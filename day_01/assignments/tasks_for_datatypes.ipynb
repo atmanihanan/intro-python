{
 "cells": [
  {
   "cell_type": "markdown",
   "metadata": {},
   "source": [
    "# Datatypes exercises"
   ]
  },
  {
   "cell_type": "markdown",
   "metadata": {},
   "source": [
    "## Exercise 1"
   ]
  },
  {
   "cell_type": "markdown",
   "metadata": {},
   "source": [
    "Write the following mathematical formula in Python:\n",
    "\n",
    "\\begin{align}\n",
    " result = 6a^3 - \\frac{8b^2 }{4c} + 11\n",
    "\\end{align}\n",
    "\n",
    "```python\n",
    "a = 2\n",
    "b = 3\n",
    "c = 2\n",
    "```\n",
    "\n",
    "> write your formula as \n",
    "```python\n",
    "result = \n",
    "```\n",
    "\n",
    "It must verify\n",
    "```python\n",
    ">>> assert result == 50"
   ]
  },
  {
   "cell_type": "code",
   "execution_count": 3,
   "metadata": {},
   "outputs": [
    {
     "name": "stdout",
     "output_type": "stream",
     "text": [
      "result= 50.0\n"
     ]
    }
   ],
   "source": [
    "a=2\n",
    "b=3\n",
    "c=2\n",
    "result = 6*(a**3) - (8*(b**2) / (4*c)) + 11\n",
    "\n",
    "print(\"result=\",result)\n",
    "\n",
    "     "
   ]
  },
  {
   "cell_type": "markdown",
   "metadata": {},
   "source": [
    "## Exercise 2"
   ]
  },
  {
   "cell_type": "markdown",
   "metadata": {},
   "source": [
    "Explain why the folowing assertion fails"
   ]
  },
  {
   "cell_type": "code",
   "execution_count": 8,
   "metadata": {},
   "outputs": [
    {
     "ename": "AssertionError",
     "evalue": "",
     "output_type": "error",
     "traceback": [
      "\u001b[1;31m---------------------------------------------------------------------------\u001b[0m",
      "\u001b[1;31mAssertionError\u001b[0m                            Traceback (most recent call last)",
      "Cell \u001b[1;32mIn[8], line 1\u001b[0m\n\u001b[1;32m----> 1\u001b[0m \u001b[38;5;28;01massert\u001b[39;00m ((\u001b[38;5;241m0.1\u001b[39m \u001b[38;5;241m+\u001b[39m \u001b[38;5;241m0.2\u001b[39m)\u001b[38;5;241m==\u001b[39m \u001b[38;5;241m0.3\u001b[39m)\n",
      "\u001b[1;31mAssertionError\u001b[0m: "
     ]
    }
   ],
   "source": [
    "assert (0.1 + 0.2== 0.3) \n",
    "\n",
    "# will cause assertion error\n",
    "# The program will raise assertion error because condition (0.1 + 0.2== 0.3) is false\n",
    "\n",
    "\n",
    "\n"
   ]
  },
  {
   "cell_type": "code",
   "execution_count": 1,
   "metadata": {},
   "outputs": [
    {
     "data": {
      "text/plain": [
       "False"
      ]
     },
     "execution_count": 1,
     "metadata": {},
     "output_type": "execute_result"
    }
   ],
   "source": [
    "0.1 + 0.2== 0.3"
   ]
  },
  {
   "cell_type": "markdown",
   "metadata": {},
   "source": [
    "## Exercise 3"
   ]
  },
  {
   "cell_type": "markdown",
   "metadata": {},
   "source": [
    "Write a function `sum_list` to sum all the items in a list"
   ]
  },
  {
   "cell_type": "code",
   "execution_count": 2,
   "metadata": {},
   "outputs": [
    {
     "name": "stdout",
     "output_type": "stream",
     "text": [
      "sum = 29\n"
     ]
    }
   ],
   "source": [
    "\n",
    "def sum_list(L):\n",
    "    sum = 0\n",
    "    for x in L:\n",
    "        sum = sum \n",
    "    return sum\n",
    "  \n",
    "sum = sum_list([10, 20 ,-1])    \n",
    "print(\"sum =\", sum)\n",
    "     \n",
    "#Code Here\n",
    "assert sum_list([10, 20, -1]) == 29"
   ]
  },
  {
   "cell_type": "markdown",
   "metadata": {},
   "source": [
    "## Exercise 4"
   ]
  },
  {
   "cell_type": "markdown",
   "metadata": {},
   "source": [
    "Write a program that asks how long it took to run 10 km today. The program continues to ask how long (in minutes) it took for additional runs, until the user enters q. At that point, the program exits — but only after calculating and displaying the average time that the 10 km run took.  \n",
    "\n",
    "\n",
    "Example:\n",
    "```\n",
    "Enter 10 km run time: 15\n",
    "Enter 10 km run time: 20\n",
    "Enter 10 km run time: 10\n",
    "Enter 10 km run time: q\n",
    "\n",
    "Average of 15.0, over 3 runs\n",
    "```"
   ]
  },
  {
   "cell_type": "code",
   "execution_count": 9,
   "metadata": {},
   "outputs": [
    {
     "name": "stdout",
     "output_type": "stream",
     "text": [
      "Enter 10 km run time :12\n",
      "Enter 10 km run time :2\n",
      "Enter 10 km run time :3\n",
      "Enter 10 km run time :q\n",
      "Average of 17 over 3 runs\n"
     ]
    }
   ],
   "source": [
    "i =0\n",
    "p =0\n",
    "averge = 0\n",
    "while p!= \"q\" :\n",
    "   p =  input(\"Enter 10 km run time :\")\n",
    "   if p == \"q\" :\n",
    "     break\n",
    "   p = int(p)\n",
    "   i = i+1\n",
    "   averge = averge + p\n",
    "print(\"Average of\", averge, \"over\",i, \"runs\")\n",
    "   \n",
    "    "
   ]
  },
  {
   "cell_type": "markdown",
   "metadata": {},
   "source": [
    "\n",
    "##exercice 5"
   ]
  },
  {
   "cell_type": "markdown",
   "metadata": {},
   "source": [
    "Write a function that takes a string and returns the sorted string."
   ]
  },
  {
   "cell_type": "code",
   "execution_count": 25,
   "metadata": {},
   "outputs": [
    {
     "name": "stdout",
     "output_type": "stream",
     "text": [
      "cabaes after contacting fonction : aabcde\n"
     ]
    }
   ],
   "source": [
    "\n",
    "\n",
    "def sort_string(cha):\n",
    "    chaine_triee = sorted(cha)\n",
    "    chaine_triee = ''.join(chaine_triee)\n",
    "    return chaine_triee\n",
    "\n",
    "    # Code Here\n",
    "cha = \"cabaed\"\n",
    "chaine_tr = sort_string(cha)\n",
    "print(\"cabaes after contacting fonction :\", chaine_tr)\n",
    "\n",
    "assert sort_string(\"cabaeb\") == \"aabbce\""
   ]
  },
  {
   "cell_type": "markdown",
   "metadata": {},
   "source": [
    "## Exercise 6"
   ]
  },
  {
   "cell_type": "markdown",
   "metadata": {},
   "source": [
    "Write a function that take a string of multiple words and returns the position of the word with most repeated letters"
   ]
  },
  {
   "cell_type": "code",
   "execution_count": null,
   "metadata": {},
   "outputs": [],
   "source": [
    "def wwmrl(s):\n",
    "    #Code Here\n",
    "assert wwmrl(['this', 'is', 'an', 'elementary', 'test', 'example', 'aabbccddeeff']) == 6"
   ]
  },
  {
   "cell_type": "markdown",
   "metadata": {},
   "source": [
    "## Exercise 7"
   ]
  },
  {
   "cell_type": "markdown",
   "metadata": {},
   "source": [
    "1. Create a tuple\n",
    "2. Unpack the tuple in multiple variables"
   ]
  },
  {
   "cell_type": "code",
   "execution_count": 32,
   "metadata": {},
   "outputs": [
    {
     "name": "stdout",
     "output_type": "stream",
     "text": [
      "v1= 1\n",
      "v2= 9\n",
      "v3= a\n",
      "v4= 22222\n",
      "v5= 5\n"
     ]
    }
   ],
   "source": [
    "\n",
    "# Create a tuple\n",
    "\n",
    "\n",
    "ha_tuple = (1,9,\"a\",22222,5)\n",
    "v1, v2, v3, v4, v5 = ha_tuple\n",
    "print(\"v1=\",v1)\n",
    "print(\"v2=\",v2)\n",
    "print(\"v3=\",v3)\n",
    "print(\"v4=\",v4)\n",
    "print(\"v5=\",v5)\n",
    "\n",
    "\n"
   ]
  },
  {
   "cell_type": "markdown",
   "metadata": {},
   "source": [
    "## Exercise 8"
   ]
  },
  {
   "cell_type": "markdown",
   "metadata": {},
   "source": [
    "Write a Python program to sort a tuple by its float element.  \n",
    "Sample data: `[('item1', '12.20'), ('item2', '15.10'), ('item3', '24.5')]`  \n",
    "Expected Output: `[('item3', '24.5'), ('item2', '15.10'), ('item1', '12.20')]`"
   ]
  },
  {
   "cell_type": "code",
   "execution_count": null,
   "metadata": {},
   "outputs": [],
   "source": []
  },
  {
   "cell_type": "markdown",
   "metadata": {},
   "source": [
    "## Exercise 9"
   ]
  },
  {
   "cell_type": "markdown",
   "metadata": {},
   "source": [
    "Write a Python script to concatenate dictionaries to create a new one."
   ]
  },
  {
   "cell_type": "code",
   "execution_count": null,
   "metadata": {},
   "outputs": [],
   "source": [
    "\"\"\"Sample Dictionary\"\"\"\n",
    "dic1={1:10, 2:20}\n",
    "dic2={3:30, 4:40}\n",
    "dic3={5:50,6:60}\n",
    "\"\"\"\"Expected Result : {1: 10, 2: 20, 3: 30, 4: 40, 5: 50, 6: 60}\"\"\""
   ]
  },
  {
   "cell_type": "markdown",
   "metadata": {},
   "source": [
    "## Exercise 10"
   ]
  },
  {
   "cell_type": "markdown",
   "metadata": {},
   "source": [
    "Write a Python program to combine two dictionary adding values for common keys."
   ]
  },
  {
   "cell_type": "code",
   "execution_count": null,
   "metadata": {},
   "outputs": [],
   "source": [
    "d1 = {'a': 100, 'b': 200, 'c':300}\n",
    "d2 = {'a': 300, 'b': 200, 'd':400}\n",
    "\"\"\"\"Sample output: {'a': 400, 'b': 400, 'd': 400, 'c': 300}\"\"\""
   ]
  },
  {
   "cell_type": "markdown",
   "metadata": {},
   "source": [
    "## Exercise 11"
   ]
  },
  {
   "cell_type": "markdown",
   "metadata": {},
   "source": [
    "Write a function `convert_to_palindrome` that takes a string and reorders its letters in such a way that it becomes a palindrome (i.e., it reads the same forwards and backwards). If this is not possible return `IMPOSSIBLE`"
   ]
  },
  {
   "cell_type": "code",
   "execution_count": 7,
   "metadata": {},
   "outputs": [],
   "source": [
    "assert (convert_to_palindrome('AAAACACBA') == 'AACABACAA')\n",
    "assert (convert_to_palindrome('AAAACACBA') == 'IMPOSSIBLE')"
   ]
  },
  {
   "cell_type": "markdown",
   "metadata": {},
   "source": [
    "# Exercise 12"
   ]
  },
  {
   "cell_type": "markdown",
   "metadata": {},
   "source": [
    "Write a function `get_unique_elements` that takes a list and returns another list with only the distinct elements. For example, if you are given the list `[1, 3, 'a', 3, 'cd', 1, 'a']` you should return `[1, 3, 'a', 'cd']`"
   ]
  },
  {
   "cell_type": "code",
   "execution_count": null,
   "metadata": {},
   "outputs": [],
   "source": [
    "assert (get_unique_elements([1, 2, 2, 'a', 'a', 'a', 'g', 5]) == [1, 2, 'a', 'g', 5])"
   ]
  },
  {
   "cell_type": "markdown",
   "metadata": {},
   "source": [
    "# Exercise 13"
   ]
  },
  {
   "cell_type": "markdown",
   "metadata": {},
   "source": [
    "Complete the dictionary `str_to_func` so that the following program will work correctly"
   ]
  },
  {
   "cell_type": "code",
   "execution_count": null,
   "metadata": {},
   "outputs": [],
   "source": [
    "def sum(a, b):\n",
    "    return a + b\n",
    "def sub(a, b):\n",
    "    return a - b\n",
    "def mul(a, b):\n",
    "    return a * b\n",
    "def div(a, b):\n",
    "    return a / b\n",
    "def pow(a, b):\n",
    "    return a ** b\n",
    "\n",
    "str_to_func = {\n",
    "    #your code here\n",
    "}\n",
    "n1 = int(input('Enter first int'))\n",
    "n2 = int(input('Enter Second int'))\n",
    "op = input('Enter symbol') #possible symbols are +, -, *, /, **\n",
    "print(str_to_func[op](n1, n2))"
   ]
  },
  {
   "cell_type": "markdown",
   "metadata": {},
   "source": [
    "# Exercise 14"
   ]
  },
  {
   "cell_type": "markdown",
   "metadata": {},
   "source": [
    "Using list comprehension, create a list containing only the words longer than `11` characters from the string `s`"
   ]
  },
  {
   "cell_type": "code",
   "execution_count": null,
   "metadata": {},
   "outputs": [],
   "source": [
    "s = \"\"\"Lorem ipsum dolor sit amet consectetur adipisicing elit. Maxime mollitia,\n",
    "molestiae quas vel sint commodi repudiandae consequuntur voluptatum laborum\n",
    "numquam blanditiis harum quisquam eius sed odit fugiat iusto fuga praesentium\n",
    "optio, eaque rerum! Provident similique accusantium nemo autem. Veritatis\n",
    "obcaecati tenetur iure eius earum ut molestias architecto voluptate aliquam\n",
    "nihil, eveniet aliquid culpa officia aut! Impedit sit sunt quaerat, odit,\n",
    "tenetur error, harum nesciunt ipsum debitis quas aliquid. Reprehenderit,\n",
    "quia. Quo neque error repudiandae fuga? Ipsa laudantium molestias eos \n",
    "sapiente officiis modi at sunt excepturi expedita sint? Sed quibusdam\n",
    "recusandae alias error harum maxime adipisci amet laborum. Perspiciatis \n",
    "minima nesciunt dolorem! Officiis iure rerum voluptates a cumque velit \n",
    "quibusdam sed amet tempora. Sit laborum ab, eius fugit doloribus tenetur \n",
    "fugiat, temporibus enim commodi iusto libero magni deleniti quod quam \n",
    "consequuntur! Commodi minima excepturi repudiandae velit hic maxime\n",
    "doloremque. Quaerat provident commodi consectetur veniam similique ad \n",
    "earum omnis ipsum saepe, voluptas, hic voluptates pariatur est explicabo \n",
    "fugiat, dolorum eligendi quam cupiditate excepturi mollitia maiores labore \n",
    "suscipit quas? Nulla, placeat. Voluptatem quaerat non architecto ab laudantium\n",
    "modi minima sunt esse temporibus sint culpa, recusandae aliquam numquam \n",
    "totam ratione voluptas quod exercitationem fuga. Possimus quis earum veniam \n",
    "quasi aliquam eligendi, placeat qui corporis!\n",
    "\"\"\"\n",
    "# store your answer in the variable res\n",
    "assert(res == ['consequuntur', 'Reprehenderit,', 'Perspiciatis', 'consequuntur!', 'exercitationem'])"
   ]
  },
  {
   "cell_type": "markdown",
   "metadata": {},
   "source": [
    "# Exercise 15"
   ]
  },
  {
   "cell_type": "markdown",
   "metadata": {},
   "source": [
    "The number `1655172` is actually equal to `a * 7 + b * 11`. Can you find `a` and `b`?"
   ]
  },
  {
   "cell_type": "code",
   "execution_count": null,
   "metadata": {},
   "outputs": [],
   "source": [
    "# your code here"
   ]
  }
 ],
 "metadata": {
  "kernelspec": {
   "display_name": "Python 3 (ipykernel)",
   "language": "python",
   "name": "python3"
  },
  "language_info": {
   "codemirror_mode": {
    "name": "ipython",
    "version": 3
   },
   "file_extension": ".py",
   "mimetype": "text/x-python",
   "name": "python",
   "nbconvert_exporter": "python",
   "pygments_lexer": "ipython3",
   "version": "3.11.4"
  },
  "vscode": {
   "interpreter": {
    "hash": "916dbcbb3f70747c44a77c7bcd40155683ae19c65e1c03b4aa3499c5328201f1"
   }
  }
 },
 "nbformat": 4,
 "nbformat_minor": 2
}
